{
 "cells": [
  {
   "cell_type": "code",
   "execution_count": 1,
   "metadata": {},
   "outputs": [],
   "source": [
    "import pandas as pd \n",
    "import matplotlib as plt"
   ]
  },
  {
   "cell_type": "code",
   "execution_count": 10,
   "metadata": {},
   "outputs": [
    {
     "data": {
      "text/html": [
       "<div>\n",
       "<style scoped>\n",
       "    .dataframe tbody tr th:only-of-type {\n",
       "        vertical-align: middle;\n",
       "    }\n",
       "\n",
       "    .dataframe tbody tr th {\n",
       "        vertical-align: top;\n",
       "    }\n",
       "\n",
       "    .dataframe thead th {\n",
       "        text-align: right;\n",
       "    }\n",
       "</style>\n",
       "<table border=\"1\" class=\"dataframe\">\n",
       "  <thead>\n",
       "    <tr style=\"text-align: right;\">\n",
       "      <th></th>\n",
       "      <th>0</th>\n",
       "      <th>1</th>\n",
       "      <th>2</th>\n",
       "      <th>3</th>\n",
       "      <th>4</th>\n",
       "      <th>5</th>\n",
       "    </tr>\n",
       "  </thead>\n",
       "  <tbody>\n",
       "    <tr>\n",
       "      <th>0</th>\n",
       "      <td>8:56 AM</td>\n",
       "      <td>9:00 AM</td>\n",
       "      <td>7:45 AM</td>\n",
       "      <td>7:45 AM</td>\n",
       "      <td>8:05 AM</td>\n",
       "      <td>7:45 AM</td>\n",
       "    </tr>\n",
       "    <tr>\n",
       "      <th>1</th>\n",
       "      <td>8:40 AM</td>\n",
       "      <td>8:40 AM</td>\n",
       "      <td>8:30 AM</td>\n",
       "      <td>8:30 AM</td>\n",
       "      <td>8:45 AM</td>\n",
       "      <td>8:20 AM</td>\n",
       "    </tr>\n",
       "    <tr>\n",
       "      <th>2</th>\n",
       "      <td>8:45 AM</td>\n",
       "      <td>8:20 AM</td>\n",
       "      <td>8:05 AM</td>\n",
       "      <td>8:00 AM</td>\n",
       "      <td>8:05 AM</td>\n",
       "      <td>8:00 AM</td>\n",
       "    </tr>\n",
       "    <tr>\n",
       "      <th>3</th>\n",
       "      <td>8:40 AM</td>\n",
       "      <td>8:40 AM</td>\n",
       "      <td>8:40 AM</td>\n",
       "      <td>8:25 AM</td>\n",
       "      <td>8:40 AM</td>\n",
       "      <td>8:40 AM</td>\n",
       "    </tr>\n",
       "    <tr>\n",
       "      <th>4</th>\n",
       "      <td>8:55 AM</td>\n",
       "      <td>8:50 AM</td>\n",
       "      <td>8:55 AM</td>\n",
       "      <td>8:10 AM</td>\n",
       "      <td>8:15 AM</td>\n",
       "      <td>8:05 AM</td>\n",
       "    </tr>\n",
       "  </tbody>\n",
       "</table>\n",
       "</div>"
      ],
      "text/plain": [
       "         0        1        2        3        4        5\n",
       "0  8:56 AM  9:00 AM  7:45 AM  7:45 AM  8:05 AM  7:45 AM\n",
       "1  8:40 AM  8:40 AM  8:30 AM  8:30 AM  8:45 AM  8:20 AM\n",
       "2  8:45 AM  8:20 AM  8:05 AM  8:00 AM  8:05 AM  8:00 AM\n",
       "3  8:40 AM  8:40 AM  8:40 AM  8:25 AM  8:40 AM  8:40 AM\n",
       "4  8:55 AM  8:50 AM  8:55 AM  8:10 AM  8:15 AM  8:05 AM"
      ]
     },
     "execution_count": 10,
     "metadata": {},
     "output_type": "execute_result"
    }
   ],
   "source": [
    "att_df = pd.read_csv('data.csv', header=[-1])\n",
    "att_df.head()"
   ]
  },
  {
   "cell_type": "code",
   "execution_count": 67,
   "metadata": {},
   "outputs": [
    {
     "data": {
      "text/plain": [
       "(23, 6)"
      ]
     },
     "execution_count": 67,
     "metadata": {},
     "output_type": "execute_result"
    }
   ],
   "source": [
    "att_df.shape"
   ]
  },
  {
   "cell_type": "code",
   "execution_count": 12,
   "metadata": {},
   "outputs": [],
   "source": [
    "import time \n",
    "#not sure i'll need this, but fun to import it anyway "
   ]
  },
  {
   "cell_type": "code",
   "execution_count": 33,
   "metadata": {},
   "outputs": [],
   "source": [
    "import numpy as np"
   ]
  },
  {
   "cell_type": "code",
   "execution_count": 69,
   "metadata": {
    "scrolled": false
   },
   "outputs": [
    {
     "data": {
      "text/plain": [
       "array([['8:56 AM', '9:00 AM', '7:45 AM', '7:45 AM', '8:05 AM', '7:45 AM'],\n",
       "       ['8:40 AM', '8:40 AM', '8:30 AM', '8:30 AM', '8:45 AM', '8:20 AM'],\n",
       "       ['8:45 AM', '8:20 AM', '8:05 AM', '8:00 AM', '8:05 AM', '8:00 AM'],\n",
       "       ['8:40 AM', '8:40 AM', '8:40 AM', '8:25 AM', '8:40 AM', '8:40 AM'],\n",
       "       ['8:55 AM', '8:50 AM', '8:55 AM', '8:10 AM', '8:15 AM', '8:05 AM'],\n",
       "       ['8:45 AM', '8:45 AM', '8:45 AM', '8:40 AM', '8:30 AM', '8:40 AM'],\n",
       "       ['8:45 AM', '8:54 AM', '8:38 AM', '8:40 AM', '8:32 AM', '8:41 AM'],\n",
       "       ['absent', '11:00 AM', '8:35 AM', '8:15 AM', '8:10 AM', '8:10 AM'],\n",
       "       ['8:39 AM', '8:13 AM', '8:15 AM', '8:12 AM', '8:10 AM', '8:00 AM'],\n",
       "       ['9:00 AM', '8:50 AM', '8:50 AM', '8:50 AM', '8:40 AM', '8:45 AM'],\n",
       "       ['8:40 AM', '8:50 AM', '8:40 AM', '8:34 AM', '8:20 AM', '8:30 AM'],\n",
       "       ['8:15 AM', '8:30 AM', '8:13 AM', '8:30 AM', '7:45 AM', '8:40 AM'],\n",
       "       ['8:45 AM', '8:55 AM', '8:45 AM', '8:45 AM', '8:00 AM', '8:45 AM'],\n",
       "       ['8:45 AM', '8:45 AM', '8:05 AM', '8:00 AM', '8:00 AM', '8:00 AM'],\n",
       "       ['8:45 AM', '8:45 AM', '9:00 AM', '9:00 AM', '8:50 AM', '9:00 AM'],\n",
       "       ['8:15 AM', '8:40 AM', '8:25 AM', '8:30 AM', '7:30 AM', '8:25 AM'],\n",
       "       ['8:45 AM', '8:40 AM', '8:45 AM', '8:55 AM', '8:45 AM', '8:45 AM'],\n",
       "       ['8:45 AM', '9:00 AM', '9:00 AM', '9:00 AM', '9:00 AM', '9:00 AM'],\n",
       "       ['8:50 AM', '8:50 AM', '8:57 AM', '8:42 AM', '8:35 AM', '8:30 AM'],\n",
       "       ['8:15 AM', '9:00 AM', '8:35 AM', '9:00 AM', '8:58 AM', '8:20 AM'],\n",
       "       ['8:45 AM', '8:35 AM', '8:27 AM', '8:46 AM', '8:31 AM', '8:37 AM'],\n",
       "       ['8:45 AM', '8:45 AM', '9:00 AM', '8:57 AM', '8:57 AM', '8:50 AM'],\n",
       "       ['8:45 AM', '8:50 AM', '8:30 AM', '8:45 AM', '8:50 AM', '8:10 AM']],\n",
       "      dtype=object)"
      ]
     },
     "execution_count": 69,
     "metadata": {},
     "output_type": "execute_result"
    }
   ],
   "source": [
    "times = np.array(att_df)\n",
    "times "
   ]
  },
  {
   "cell_type": "code",
   "execution_count": 72,
   "metadata": {
    "scrolled": false
   },
   "outputs": [
    {
     "data": {
      "text/plain": [
       "array([['8:56 AM'],\n",
       "       ['9:00 AM'],\n",
       "       ['7:45 AM'],\n",
       "       ['7:45 AM'],\n",
       "       ['8:05 AM'],\n",
       "       ['7:45 AM'],\n",
       "       ['8:40 AM'],\n",
       "       ['8:40 AM'],\n",
       "       ['8:30 AM'],\n",
       "       ['8:30 AM'],\n",
       "       ['8:45 AM'],\n",
       "       ['8:20 AM'],\n",
       "       ['8:45 AM'],\n",
       "       ['8:20 AM'],\n",
       "       ['8:05 AM'],\n",
       "       ['8:00 AM'],\n",
       "       ['8:05 AM'],\n",
       "       ['8:00 AM'],\n",
       "       ['8:40 AM'],\n",
       "       ['8:40 AM'],\n",
       "       ['8:40 AM'],\n",
       "       ['8:25 AM'],\n",
       "       ['8:40 AM'],\n",
       "       ['8:40 AM'],\n",
       "       ['8:55 AM'],\n",
       "       ['8:50 AM'],\n",
       "       ['8:55 AM'],\n",
       "       ['8:10 AM'],\n",
       "       ['8:15 AM'],\n",
       "       ['8:05 AM'],\n",
       "       ['8:45 AM'],\n",
       "       ['8:45 AM'],\n",
       "       ['8:45 AM'],\n",
       "       ['8:40 AM'],\n",
       "       ['8:30 AM'],\n",
       "       ['8:40 AM'],\n",
       "       ['8:45 AM'],\n",
       "       ['8:54 AM'],\n",
       "       ['8:38 AM'],\n",
       "       ['8:40 AM'],\n",
       "       ['8:32 AM'],\n",
       "       ['8:41 AM'],\n",
       "       ['absent'],\n",
       "       ['11:00 AM'],\n",
       "       ['8:35 AM'],\n",
       "       ['8:15 AM'],\n",
       "       ['8:10 AM'],\n",
       "       ['8:10 AM'],\n",
       "       ['8:39 AM'],\n",
       "       ['8:13 AM'],\n",
       "       ['8:15 AM'],\n",
       "       ['8:12 AM'],\n",
       "       ['8:10 AM'],\n",
       "       ['8:00 AM'],\n",
       "       ['9:00 AM'],\n",
       "       ['8:50 AM'],\n",
       "       ['8:50 AM'],\n",
       "       ['8:50 AM'],\n",
       "       ['8:40 AM'],\n",
       "       ['8:45 AM'],\n",
       "       ['8:40 AM'],\n",
       "       ['8:50 AM'],\n",
       "       ['8:40 AM'],\n",
       "       ['8:34 AM'],\n",
       "       ['8:20 AM'],\n",
       "       ['8:30 AM'],\n",
       "       ['8:15 AM'],\n",
       "       ['8:30 AM'],\n",
       "       ['8:13 AM'],\n",
       "       ['8:30 AM'],\n",
       "       ['7:45 AM'],\n",
       "       ['8:40 AM'],\n",
       "       ['8:45 AM'],\n",
       "       ['8:55 AM'],\n",
       "       ['8:45 AM'],\n",
       "       ['8:45 AM'],\n",
       "       ['8:00 AM'],\n",
       "       ['8:45 AM'],\n",
       "       ['8:45 AM'],\n",
       "       ['8:45 AM'],\n",
       "       ['8:05 AM'],\n",
       "       ['8:00 AM'],\n",
       "       ['8:00 AM'],\n",
       "       ['8:00 AM'],\n",
       "       ['8:45 AM'],\n",
       "       ['8:45 AM'],\n",
       "       ['9:00 AM'],\n",
       "       ['9:00 AM'],\n",
       "       ['8:50 AM'],\n",
       "       ['9:00 AM'],\n",
       "       ['8:15 AM'],\n",
       "       ['8:40 AM'],\n",
       "       ['8:25 AM'],\n",
       "       ['8:30 AM'],\n",
       "       ['7:30 AM'],\n",
       "       ['8:25 AM'],\n",
       "       ['8:45 AM'],\n",
       "       ['8:40 AM'],\n",
       "       ['8:45 AM'],\n",
       "       ['8:55 AM'],\n",
       "       ['8:45 AM'],\n",
       "       ['8:45 AM'],\n",
       "       ['8:45 AM'],\n",
       "       ['9:00 AM'],\n",
       "       ['9:00 AM'],\n",
       "       ['9:00 AM'],\n",
       "       ['9:00 AM'],\n",
       "       ['9:00 AM'],\n",
       "       ['8:50 AM'],\n",
       "       ['8:50 AM'],\n",
       "       ['8:57 AM'],\n",
       "       ['8:42 AM'],\n",
       "       ['8:35 AM'],\n",
       "       ['8:30 AM'],\n",
       "       ['8:15 AM'],\n",
       "       ['9:00 AM'],\n",
       "       ['8:35 AM'],\n",
       "       ['9:00 AM'],\n",
       "       ['8:58 AM'],\n",
       "       ['8:20 AM'],\n",
       "       ['8:45 AM'],\n",
       "       ['8:35 AM'],\n",
       "       ['8:27 AM'],\n",
       "       ['8:46 AM'],\n",
       "       ['8:31 AM'],\n",
       "       ['8:37 AM'],\n",
       "       ['8:45 AM'],\n",
       "       ['8:45 AM'],\n",
       "       ['9:00 AM'],\n",
       "       ['8:57 AM'],\n",
       "       ['8:57 AM'],\n",
       "       ['8:50 AM'],\n",
       "       ['8:45 AM'],\n",
       "       ['8:50 AM'],\n",
       "       ['8:30 AM'],\n",
       "       ['8:45 AM'],\n",
       "       ['8:50 AM'],\n",
       "       ['8:10 AM']], dtype=object)"
      ]
     },
     "execution_count": 72,
     "metadata": {},
     "output_type": "execute_result"
    }
   ],
   "source": [
    "times = times.reshape(23*6,1)\n",
    "times"
   ]
  },
  {
   "cell_type": "code",
   "execution_count": 81,
   "metadata": {
    "scrolled": true
   },
   "outputs": [
    {
     "data": {
      "text/html": [
       "<div>\n",
       "<style scoped>\n",
       "    .dataframe tbody tr th:only-of-type {\n",
       "        vertical-align: middle;\n",
       "    }\n",
       "\n",
       "    .dataframe tbody tr th {\n",
       "        vertical-align: top;\n",
       "    }\n",
       "\n",
       "    .dataframe thead th {\n",
       "        text-align: right;\n",
       "    }\n",
       "</style>\n",
       "<table border=\"1\" class=\"dataframe\">\n",
       "  <thead>\n",
       "    <tr style=\"text-align: right;\">\n",
       "      <th></th>\n",
       "      <th>arrival_time</th>\n",
       "    </tr>\n",
       "  </thead>\n",
       "  <tbody>\n",
       "    <tr>\n",
       "      <th>0</th>\n",
       "      <td>8:56 AM</td>\n",
       "    </tr>\n",
       "    <tr>\n",
       "      <th>1</th>\n",
       "      <td>9:00 AM</td>\n",
       "    </tr>\n",
       "    <tr>\n",
       "      <th>2</th>\n",
       "      <td>7:45 AM</td>\n",
       "    </tr>\n",
       "    <tr>\n",
       "      <th>3</th>\n",
       "      <td>7:45 AM</td>\n",
       "    </tr>\n",
       "    <tr>\n",
       "      <th>4</th>\n",
       "      <td>8:05 AM</td>\n",
       "    </tr>\n",
       "  </tbody>\n",
       "</table>\n",
       "</div>"
      ],
      "text/plain": [
       "  arrival_time\n",
       "0      8:56 AM\n",
       "1      9:00 AM\n",
       "2      7:45 AM\n",
       "3      7:45 AM\n",
       "4      8:05 AM"
      ]
     },
     "execution_count": 81,
     "metadata": {},
     "output_type": "execute_result"
    }
   ],
   "source": [
    "agg_data = pd.DataFrame(times)\n",
    "agg_data.columns=['arrival_time']\n",
    "agg_data.head()"
   ]
  },
  {
   "cell_type": "code",
   "execution_count": 86,
   "metadata": {
    "scrolled": true
   },
   "outputs": [
    {
     "ename": "ValueError",
     "evalue": "time data 'absent' does not match format '%I:%M %p' (match)",
     "output_type": "error",
     "traceback": [
      "\u001b[0;31m---------------------------------------------------------------------------\u001b[0m",
      "\u001b[0;31mTypeError\u001b[0m                                 Traceback (most recent call last)",
      "\u001b[0;32m~/anaconda3/lib/python3.7/site-packages/pandas/core/tools/datetimes.py\u001b[0m in \u001b[0;36m_convert_listlike\u001b[0;34m(arg, box, format, name, tz)\u001b[0m\n\u001b[1;32m    376\u001b[0m             \u001b[0;32mtry\u001b[0m\u001b[0;34m:\u001b[0m\u001b[0;34m\u001b[0m\u001b[0;34m\u001b[0m\u001b[0m\n\u001b[0;32m--> 377\u001b[0;31m                 \u001b[0mvalues\u001b[0m\u001b[0;34m,\u001b[0m \u001b[0mtz\u001b[0m \u001b[0;34m=\u001b[0m \u001b[0mconversion\u001b[0m\u001b[0;34m.\u001b[0m\u001b[0mdatetime_to_datetime64\u001b[0m\u001b[0;34m(\u001b[0m\u001b[0marg\u001b[0m\u001b[0;34m)\u001b[0m\u001b[0;34m\u001b[0m\u001b[0;34m\u001b[0m\u001b[0m\n\u001b[0m\u001b[1;32m    378\u001b[0m                 \u001b[0;32mreturn\u001b[0m \u001b[0mDatetimeIndex\u001b[0m\u001b[0;34m.\u001b[0m\u001b[0m_simple_new\u001b[0m\u001b[0;34m(\u001b[0m\u001b[0mvalues\u001b[0m\u001b[0;34m,\u001b[0m \u001b[0mname\u001b[0m\u001b[0;34m=\u001b[0m\u001b[0mname\u001b[0m\u001b[0;34m,\u001b[0m \u001b[0mtz\u001b[0m\u001b[0;34m=\u001b[0m\u001b[0mtz\u001b[0m\u001b[0;34m)\u001b[0m\u001b[0;34m\u001b[0m\u001b[0;34m\u001b[0m\u001b[0m\n",
      "\u001b[0;32mpandas/_libs/tslibs/conversion.pyx\u001b[0m in \u001b[0;36mpandas._libs.tslibs.conversion.datetime_to_datetime64\u001b[0;34m()\u001b[0m\n",
      "\u001b[0;31mTypeError\u001b[0m: Unrecognized value type: <class 'str'>",
      "\nDuring handling of the above exception, another exception occurred:\n",
      "\u001b[0;31mValueError\u001b[0m                                Traceback (most recent call last)",
      "\u001b[0;32m<ipython-input-86-d5851425739c>\u001b[0m in \u001b[0;36m<module>\u001b[0;34m\u001b[0m\n\u001b[0;32m----> 1\u001b[0;31m \u001b[0mpd\u001b[0m\u001b[0;34m.\u001b[0m\u001b[0mto_datetime\u001b[0m\u001b[0;34m(\u001b[0m\u001b[0magg_data\u001b[0m\u001b[0;34m[\u001b[0m\u001b[0;34m'arrival_time'\u001b[0m\u001b[0;34m]\u001b[0m\u001b[0;34m,\u001b[0m \u001b[0merrors\u001b[0m\u001b[0;34m=\u001b[0m\u001b[0;34m'raise'\u001b[0m\u001b[0;34m,\u001b[0m\u001b[0mformat\u001b[0m\u001b[0;34m=\u001b[0m\u001b[0;34m'%I:%M %p'\u001b[0m\u001b[0;34m)\u001b[0m\u001b[0;34m\u001b[0m\u001b[0;34m\u001b[0m\u001b[0m\n\u001b[0m",
      "\u001b[0;32m~/anaconda3/lib/python3.7/site-packages/pandas/core/tools/datetimes.py\u001b[0m in \u001b[0;36mto_datetime\u001b[0;34m(arg, errors, dayfirst, yearfirst, utc, box, format, exact, unit, infer_datetime_format, origin, cache)\u001b[0m\n\u001b[1;32m    449\u001b[0m         \u001b[0;32melse\u001b[0m\u001b[0;34m:\u001b[0m\u001b[0;34m\u001b[0m\u001b[0;34m\u001b[0m\u001b[0m\n\u001b[1;32m    450\u001b[0m             \u001b[0;32mfrom\u001b[0m \u001b[0mpandas\u001b[0m \u001b[0;32mimport\u001b[0m \u001b[0mSeries\u001b[0m\u001b[0;34m\u001b[0m\u001b[0;34m\u001b[0m\u001b[0m\n\u001b[0;32m--> 451\u001b[0;31m             \u001b[0mvalues\u001b[0m \u001b[0;34m=\u001b[0m \u001b[0m_convert_listlike\u001b[0m\u001b[0;34m(\u001b[0m\u001b[0marg\u001b[0m\u001b[0;34m.\u001b[0m\u001b[0m_values\u001b[0m\u001b[0;34m,\u001b[0m \u001b[0;32mTrue\u001b[0m\u001b[0;34m,\u001b[0m \u001b[0mformat\u001b[0m\u001b[0;34m)\u001b[0m\u001b[0;34m\u001b[0m\u001b[0;34m\u001b[0m\u001b[0m\n\u001b[0m\u001b[1;32m    452\u001b[0m             \u001b[0mresult\u001b[0m \u001b[0;34m=\u001b[0m \u001b[0mSeries\u001b[0m\u001b[0;34m(\u001b[0m\u001b[0mvalues\u001b[0m\u001b[0;34m,\u001b[0m \u001b[0mindex\u001b[0m\u001b[0;34m=\u001b[0m\u001b[0marg\u001b[0m\u001b[0;34m.\u001b[0m\u001b[0mindex\u001b[0m\u001b[0;34m,\u001b[0m \u001b[0mname\u001b[0m\u001b[0;34m=\u001b[0m\u001b[0marg\u001b[0m\u001b[0;34m.\u001b[0m\u001b[0mname\u001b[0m\u001b[0;34m)\u001b[0m\u001b[0;34m\u001b[0m\u001b[0;34m\u001b[0m\u001b[0m\n\u001b[1;32m    453\u001b[0m     \u001b[0;32melif\u001b[0m \u001b[0misinstance\u001b[0m\u001b[0;34m(\u001b[0m\u001b[0marg\u001b[0m\u001b[0;34m,\u001b[0m \u001b[0;34m(\u001b[0m\u001b[0mABCDataFrame\u001b[0m\u001b[0;34m,\u001b[0m \u001b[0mMutableMapping\u001b[0m\u001b[0;34m)\u001b[0m\u001b[0;34m)\u001b[0m\u001b[0;34m:\u001b[0m\u001b[0;34m\u001b[0m\u001b[0;34m\u001b[0m\u001b[0m\n",
      "\u001b[0;32m~/anaconda3/lib/python3.7/site-packages/pandas/core/tools/datetimes.py\u001b[0m in \u001b[0;36m_convert_listlike\u001b[0;34m(arg, box, format, name, tz)\u001b[0m\n\u001b[1;32m    378\u001b[0m                 \u001b[0;32mreturn\u001b[0m \u001b[0mDatetimeIndex\u001b[0m\u001b[0;34m.\u001b[0m\u001b[0m_simple_new\u001b[0m\u001b[0;34m(\u001b[0m\u001b[0mvalues\u001b[0m\u001b[0;34m,\u001b[0m \u001b[0mname\u001b[0m\u001b[0;34m=\u001b[0m\u001b[0mname\u001b[0m\u001b[0;34m,\u001b[0m \u001b[0mtz\u001b[0m\u001b[0;34m=\u001b[0m\u001b[0mtz\u001b[0m\u001b[0;34m)\u001b[0m\u001b[0;34m\u001b[0m\u001b[0;34m\u001b[0m\u001b[0m\n\u001b[1;32m    379\u001b[0m             \u001b[0;32mexcept\u001b[0m \u001b[0;34m(\u001b[0m\u001b[0mValueError\u001b[0m\u001b[0;34m,\u001b[0m \u001b[0mTypeError\u001b[0m\u001b[0;34m)\u001b[0m\u001b[0;34m:\u001b[0m\u001b[0;34m\u001b[0m\u001b[0;34m\u001b[0m\u001b[0m\n\u001b[0;32m--> 380\u001b[0;31m                 \u001b[0;32mraise\u001b[0m \u001b[0me\u001b[0m\u001b[0;34m\u001b[0m\u001b[0;34m\u001b[0m\u001b[0m\n\u001b[0m\u001b[1;32m    381\u001b[0m \u001b[0;34m\u001b[0m\u001b[0m\n\u001b[1;32m    382\u001b[0m     \u001b[0;32mif\u001b[0m \u001b[0marg\u001b[0m \u001b[0;32mis\u001b[0m \u001b[0;32mNone\u001b[0m\u001b[0;34m:\u001b[0m\u001b[0;34m\u001b[0m\u001b[0;34m\u001b[0m\u001b[0m\n",
      "\u001b[0;32m~/anaconda3/lib/python3.7/site-packages/pandas/core/tools/datetimes.py\u001b[0m in \u001b[0;36m_convert_listlike\u001b[0;34m(arg, box, format, name, tz)\u001b[0m\n\u001b[1;32m    345\u001b[0m                     \u001b[0;32mtry\u001b[0m\u001b[0;34m:\u001b[0m\u001b[0;34m\u001b[0m\u001b[0;34m\u001b[0m\u001b[0m\n\u001b[1;32m    346\u001b[0m                         result = array_strptime(arg, format, exact=exact,\n\u001b[0;32m--> 347\u001b[0;31m                                                 errors=errors)\n\u001b[0m\u001b[1;32m    348\u001b[0m                     \u001b[0;32mexcept\u001b[0m \u001b[0mtslib\u001b[0m\u001b[0;34m.\u001b[0m\u001b[0mOutOfBoundsDatetime\u001b[0m\u001b[0;34m:\u001b[0m\u001b[0;34m\u001b[0m\u001b[0;34m\u001b[0m\u001b[0m\n\u001b[1;32m    349\u001b[0m                         \u001b[0;32mif\u001b[0m \u001b[0merrors\u001b[0m \u001b[0;34m==\u001b[0m \u001b[0;34m'raise'\u001b[0m\u001b[0;34m:\u001b[0m\u001b[0;34m\u001b[0m\u001b[0;34m\u001b[0m\u001b[0m\n",
      "\u001b[0;32mpandas/_libs/tslibs/strptime.pyx\u001b[0m in \u001b[0;36mpandas._libs.tslibs.strptime.array_strptime\u001b[0;34m()\u001b[0m\n",
      "\u001b[0;31mValueError\u001b[0m: time data 'absent' does not match format '%I:%M %p' (match)"
     ]
    }
   ],
   "source": [
    "pd.to_datetime(agg_data['arrival_time'], errors='raise',format='%I:%M %p')"
   ]
  },
  {
   "cell_type": "code",
   "execution_count": null,
   "metadata": {},
   "outputs": [],
   "source": [
    "#had to stop for time, but close to removing the errors... i can do the same thing after removing \"absent\""
   ]
  }
 ],
 "metadata": {
  "kernelspec": {
   "display_name": "Python 3",
   "language": "python",
   "name": "python3"
  },
  "language_info": {
   "codemirror_mode": {
    "name": "ipython",
    "version": 3
   },
   "file_extension": ".py",
   "mimetype": "text/x-python",
   "name": "python",
   "nbconvert_exporter": "python",
   "pygments_lexer": "ipython3",
   "version": "3.7.1"
  }
 },
 "nbformat": 4,
 "nbformat_minor": 2
}
